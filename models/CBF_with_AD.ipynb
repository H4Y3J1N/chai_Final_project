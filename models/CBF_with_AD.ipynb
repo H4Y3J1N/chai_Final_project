{
  "nbformat": 4,
  "nbformat_minor": 0,
  "metadata": {
    "colab": {
      "provenance": []
    },
    "kernelspec": {
      "name": "python3",
      "display_name": "Python 3"
    },
    "language_info": {
      "name": "python"
    }
  },
  "cells": [
    {
      "cell_type": "markdown",
      "metadata": {
        "id": "FhugyyJ0MfAU"
      },
      "source": [
        "1. (Advertiser 유사도 계산을 통해) 유저가 클릭한 광고주와 가장 유사도 높은 광고주 추천  \n",
        "2. 광고주별로 count 찍고 top-k 명 추천 (aka 오늘의 인기 상점)\n",
        "3. NLP를 통해 게시글 제목 분석 후 유사도 계산"
      ]
    },
    {
      "cell_type": "code",
      "metadata": {
        "id": "jKHsL79cL8hH"
      },
      "source": [
        "import pandas as pd\n",
        "import numpy as np\n",
        "import matplotlib.pyplot as plt\n",
        "import seaborn as sns\n",
        "\n",
        "from sklearn.metrics.pairwise import cosine_similarity"
      ],
      "execution_count": null,
      "outputs": []
    },
    {
      "cell_type": "code",
      "metadata": {
        "id": "9SQBTCZLMTQT"
      },
      "source": [
        "data_path = '/content/drive/MyDrive/Colab Notebooks/data/ad.zip (Unzipped Files)/data/'\n",
        "\n",
        "ad = pd.read_csv(data_path + 'ad.csv')\n",
        "advertiser = pd.read_csv(data_path + 'advertiser.csv')\n",
        "# dataset = pd.read_csv(data_path + 'dataset.csv')\n",
        "# impression_log = pd.read_csv(data_path + 'impression_log.csv')\n",
        "# view_log = pd.read_csv(data_path + 'view_log.csv')\n",
        "# viewer = pd.read_csv(data_path + 'viewer.csv')"
      ],
      "execution_count": null,
      "outputs": []
    },
    {
      "cell_type": "code",
      "metadata": {
        "colab": {
          "base_uri": "https://localhost:8080/",
          "height": 423
        },
        "id": "HHtsm9pGzPKL",
        "outputId": "e97f4756-e3d2-443f-80dd-dfde988d5072"
      },
      "source": [
        "# user-advertiser matrix를 만들 때 쓰였던 df\n",
        "temp = pd.read_csv('/content/drive/MyDrive/Colab Notebooks/data/ad.zip (Unzipped Files)/data/groupby.csv')\n",
        "temp = temp.drop('Unnamed: 0', axis = 1)\n",
        "temp"
      ],
      "execution_count": null,
      "outputs": [
        {
          "output_type": "execute_result",
          "data": {
            "text/html": [
              "<div>\n",
              "<style scoped>\n",
              "    .dataframe tbody tr th:only-of-type {\n",
              "        vertical-align: middle;\n",
              "    }\n",
              "\n",
              "    .dataframe tbody tr th {\n",
              "        vertical-align: top;\n",
              "    }\n",
              "\n",
              "    .dataframe thead th {\n",
              "        text-align: right;\n",
              "    }\n",
              "</style>\n",
              "<table border=\"1\" class=\"dataframe\">\n",
              "  <thead>\n",
              "    <tr style=\"text-align: right;\">\n",
              "      <th></th>\n",
              "      <th>imp_id</th>\n",
              "      <th>server_time_kst</th>\n",
              "      <th>bid_price</th>\n",
              "      <th>device_type</th>\n",
              "      <th>content_id</th>\n",
              "      <th>viewer_id</th>\n",
              "      <th>advertizer_id</th>\n",
              "    </tr>\n",
              "  </thead>\n",
              "  <tbody>\n",
              "    <tr>\n",
              "      <th>0</th>\n",
              "      <td>99d1612dded122458e99</td>\n",
              "      <td>2021-08-31T16:56:46.013+09:00</td>\n",
              "      <td>50</td>\n",
              "      <td>a</td>\n",
              "      <td>137078818</td>\n",
              "      <td>1728109</td>\n",
              "      <td>12851816</td>\n",
              "    </tr>\n",
              "    <tr>\n",
              "      <th>1</th>\n",
              "      <td>998c612ddab9008cceee</td>\n",
              "      <td>2021-08-31T16:32:01.533+09:00</td>\n",
              "      <td>385</td>\n",
              "      <td>a</td>\n",
              "      <td>132419409</td>\n",
              "      <td>77328955</td>\n",
              "      <td>66620</td>\n",
              "    </tr>\n",
              "    <tr>\n",
              "      <th>2</th>\n",
              "      <td>998c612dd77f007f2d67</td>\n",
              "      <td>2021-08-31T16:17:26.423+09:00</td>\n",
              "      <td>50</td>\n",
              "      <td>a</td>\n",
              "      <td>162053601</td>\n",
              "      <td>75559871</td>\n",
              "      <td>2701783</td>\n",
              "    </tr>\n",
              "    <tr>\n",
              "      <th>3</th>\n",
              "      <td>971a612ddff00eb50a47</td>\n",
              "      <td>2021-08-31T16:53:48.436+09:00</td>\n",
              "      <td>70</td>\n",
              "      <td>a</td>\n",
              "      <td>161384072</td>\n",
              "      <td>9461170</td>\n",
              "      <td>12851816</td>\n",
              "    </tr>\n",
              "    <tr>\n",
              "      <th>4</th>\n",
              "      <td>971a612ddd140ea93f30</td>\n",
              "      <td>2021-08-31T16:41:29.857+09:00</td>\n",
              "      <td>155</td>\n",
              "      <td>a</td>\n",
              "      <td>162732366</td>\n",
              "      <td>10809468</td>\n",
              "      <td>9592612</td>\n",
              "    </tr>\n",
              "    <tr>\n",
              "      <th>...</th>\n",
              "      <td>...</td>\n",
              "      <td>...</td>\n",
              "      <td>...</td>\n",
              "      <td>...</td>\n",
              "      <td>...</td>\n",
              "      <td>...</td>\n",
              "      <td>...</td>\n",
              "    </tr>\n",
              "    <tr>\n",
              "      <th>25593</th>\n",
              "      <td>97f9612d19ad146e7af3</td>\n",
              "      <td>2021-08-31T02:48:14.302+09:00</td>\n",
              "      <td>230</td>\n",
              "      <td>a</td>\n",
              "      <td>156270703</td>\n",
              "      <td>3730768</td>\n",
              "      <td>4421086</td>\n",
              "    </tr>\n",
              "    <tr>\n",
              "      <th>25594</th>\n",
              "      <td>97f9612d1250145c2e00</td>\n",
              "      <td>2021-08-31T02:16:06.295+09:00</td>\n",
              "      <td>60</td>\n",
              "      <td>a</td>\n",
              "      <td>162188680</td>\n",
              "      <td>13008046</td>\n",
              "      <td>201368</td>\n",
              "    </tr>\n",
              "    <tr>\n",
              "      <th>25595</th>\n",
              "      <td>99d1612d19e220565606</td>\n",
              "      <td>2021-08-31T02:48:24.894+09:00</td>\n",
              "      <td>60</td>\n",
              "      <td>a</td>\n",
              "      <td>161297627</td>\n",
              "      <td>76011534</td>\n",
              "      <td>10255755</td>\n",
              "    </tr>\n",
              "    <tr>\n",
              "      <th>25596</th>\n",
              "      <td>99d1612d12bf2044dde5</td>\n",
              "      <td>2021-08-31T02:18:03.444+09:00</td>\n",
              "      <td>80</td>\n",
              "      <td>a</td>\n",
              "      <td>142540474</td>\n",
              "      <td>1581224</td>\n",
              "      <td>12851816</td>\n",
              "    </tr>\n",
              "    <tr>\n",
              "      <th>25597</th>\n",
              "      <td>99d1612d12ff20458400</td>\n",
              "      <td>2021-08-31T02:19:05.646+09:00</td>\n",
              "      <td>55</td>\n",
              "      <td>a</td>\n",
              "      <td>144277305</td>\n",
              "      <td>75198695</td>\n",
              "      <td>1286544</td>\n",
              "    </tr>\n",
              "  </tbody>\n",
              "</table>\n",
              "<p>25598 rows × 7 columns</p>\n",
              "</div>"
            ],
            "text/plain": [
              "                     imp_id  ... advertizer_id\n",
              "0      99d1612dded122458e99  ...      12851816\n",
              "1      998c612ddab9008cceee  ...         66620\n",
              "2      998c612dd77f007f2d67  ...       2701783\n",
              "3      971a612ddff00eb50a47  ...      12851816\n",
              "4      971a612ddd140ea93f30  ...       9592612\n",
              "...                     ...  ...           ...\n",
              "25593  97f9612d19ad146e7af3  ...       4421086\n",
              "25594  97f9612d1250145c2e00  ...        201368\n",
              "25595  99d1612d19e220565606  ...      10255755\n",
              "25596  99d1612d12bf2044dde5  ...      12851816\n",
              "25597  99d1612d12ff20458400  ...       1286544\n",
              "\n",
              "[25598 rows x 7 columns]"
            ]
          },
          "metadata": {},
          "execution_count": 3
        }
      ]
    },
    {
      "cell_type": "markdown",
      "metadata": {
        "id": "z3-BLTePM_-i"
      },
      "source": [
        "# 1. 유저가 클릭한 광고주와 가장 유사도 높은 광고주 추천"
      ]
    },
    {
      "cell_type": "markdown",
      "metadata": {
        "id": "dH_mbiFvC5SK"
      },
      "source": [
        "* content-based filtering의 가장 큰 장점은 user-item matrix가 필요 없다는 것.\n",
        "* 광고주 데이터만을 가지고 유저가 클릭한 광고주와 가장 비슷한 광고주 k명을 추천해보자."
      ]
    },
    {
      "cell_type": "code",
      "metadata": {
        "colab": {
          "base_uri": "https://localhost:8080/",
          "height": 443
        },
        "id": "siRAqEYuMTTF",
        "outputId": "cf935874-7d65-40bc-a748-39d7e4b9c49b"
      },
      "source": [
        "advertiser"
      ],
      "execution_count": null,
      "outputs": [
        {
          "output_type": "execute_result",
          "data": {
            "text/html": [
              "<div>\n",
              "<style scoped>\n",
              "    .dataframe tbody tr th:only-of-type {\n",
              "        vertical-align: middle;\n",
              "    }\n",
              "\n",
              "    .dataframe tbody tr th {\n",
              "        vertical-align: top;\n",
              "    }\n",
              "\n",
              "    .dataframe thead th {\n",
              "        text-align: right;\n",
              "    }\n",
              "</style>\n",
              "<table border=\"1\" class=\"dataframe\">\n",
              "  <thead>\n",
              "    <tr style=\"text-align: right;\">\n",
              "      <th></th>\n",
              "      <th>user_id</th>\n",
              "      <th>favorite_count</th>\n",
              "      <th>grade</th>\n",
              "      <th>item_count</th>\n",
              "      <th>interest</th>\n",
              "      <th>review_count</th>\n",
              "      <th>comment_count</th>\n",
              "      <th>follower_count</th>\n",
              "      <th>pay_count</th>\n",
              "      <th>parcel_post_count</th>\n",
              "      <th>transfer_count</th>\n",
              "      <th>chat_count</th>\n",
              "    </tr>\n",
              "  </thead>\n",
              "  <tbody>\n",
              "    <tr>\n",
              "      <th>0</th>\n",
              "      <td>2487730</td>\n",
              "      <td>1899</td>\n",
              "      <td>7673</td>\n",
              "      <td>431</td>\n",
              "      <td>31681</td>\n",
              "      <td>775</td>\n",
              "      <td>529</td>\n",
              "      <td>0</td>\n",
              "      <td>575</td>\n",
              "      <td>0</td>\n",
              "      <td>35</td>\n",
              "      <td>130</td>\n",
              "    </tr>\n",
              "    <tr>\n",
              "      <th>1</th>\n",
              "      <td>1462217</td>\n",
              "      <td>799</td>\n",
              "      <td>5520</td>\n",
              "      <td>433</td>\n",
              "      <td>16794</td>\n",
              "      <td>570</td>\n",
              "      <td>250</td>\n",
              "      <td>0</td>\n",
              "      <td>942</td>\n",
              "      <td>0</td>\n",
              "      <td>57</td>\n",
              "      <td>11</td>\n",
              "    </tr>\n",
              "    <tr>\n",
              "      <th>2</th>\n",
              "      <td>6972746</td>\n",
              "      <td>3692</td>\n",
              "      <td>7526</td>\n",
              "      <td>2530</td>\n",
              "      <td>36944</td>\n",
              "      <td>776</td>\n",
              "      <td>828</td>\n",
              "      <td>0</td>\n",
              "      <td>325</td>\n",
              "      <td>0</td>\n",
              "      <td>10</td>\n",
              "      <td>13</td>\n",
              "    </tr>\n",
              "    <tr>\n",
              "      <th>3</th>\n",
              "      <td>1358510</td>\n",
              "      <td>1228</td>\n",
              "      <td>2106</td>\n",
              "      <td>100</td>\n",
              "      <td>27142</td>\n",
              "      <td>223</td>\n",
              "      <td>431</td>\n",
              "      <td>0</td>\n",
              "      <td>232</td>\n",
              "      <td>9</td>\n",
              "      <td>1</td>\n",
              "      <td>4</td>\n",
              "    </tr>\n",
              "    <tr>\n",
              "      <th>4</th>\n",
              "      <td>1358510</td>\n",
              "      <td>1228</td>\n",
              "      <td>2106</td>\n",
              "      <td>100</td>\n",
              "      <td>27142</td>\n",
              "      <td>223</td>\n",
              "      <td>431</td>\n",
              "      <td>0</td>\n",
              "      <td>232</td>\n",
              "      <td>9</td>\n",
              "      <td>1</td>\n",
              "      <td>4</td>\n",
              "    </tr>\n",
              "    <tr>\n",
              "      <th>...</th>\n",
              "      <td>...</td>\n",
              "      <td>...</td>\n",
              "      <td>...</td>\n",
              "      <td>...</td>\n",
              "      <td>...</td>\n",
              "      <td>...</td>\n",
              "      <td>...</td>\n",
              "      <td>...</td>\n",
              "      <td>...</td>\n",
              "      <td>...</td>\n",
              "      <td>...</td>\n",
              "      <td>...</td>\n",
              "    </tr>\n",
              "    <tr>\n",
              "      <th>1534</th>\n",
              "      <td>10255755</td>\n",
              "      <td>2063</td>\n",
              "      <td>7539</td>\n",
              "      <td>784</td>\n",
              "      <td>3424</td>\n",
              "      <td>755</td>\n",
              "      <td>392</td>\n",
              "      <td>0</td>\n",
              "      <td>677</td>\n",
              "      <td>0</td>\n",
              "      <td>5</td>\n",
              "      <td>236</td>\n",
              "    </tr>\n",
              "    <tr>\n",
              "      <th>1535</th>\n",
              "      <td>10255755</td>\n",
              "      <td>2063</td>\n",
              "      <td>7539</td>\n",
              "      <td>784</td>\n",
              "      <td>3424</td>\n",
              "      <td>755</td>\n",
              "      <td>392</td>\n",
              "      <td>0</td>\n",
              "      <td>677</td>\n",
              "      <td>0</td>\n",
              "      <td>5</td>\n",
              "      <td>236</td>\n",
              "    </tr>\n",
              "    <tr>\n",
              "      <th>1536</th>\n",
              "      <td>10255755</td>\n",
              "      <td>2063</td>\n",
              "      <td>7539</td>\n",
              "      <td>784</td>\n",
              "      <td>3424</td>\n",
              "      <td>755</td>\n",
              "      <td>392</td>\n",
              "      <td>0</td>\n",
              "      <td>677</td>\n",
              "      <td>0</td>\n",
              "      <td>5</td>\n",
              "      <td>236</td>\n",
              "    </tr>\n",
              "    <tr>\n",
              "      <th>1537</th>\n",
              "      <td>10255755</td>\n",
              "      <td>2063</td>\n",
              "      <td>7539</td>\n",
              "      <td>784</td>\n",
              "      <td>3424</td>\n",
              "      <td>755</td>\n",
              "      <td>392</td>\n",
              "      <td>0</td>\n",
              "      <td>677</td>\n",
              "      <td>0</td>\n",
              "      <td>5</td>\n",
              "      <td>236</td>\n",
              "    </tr>\n",
              "    <tr>\n",
              "      <th>1538</th>\n",
              "      <td>2604332</td>\n",
              "      <td>851</td>\n",
              "      <td>4223</td>\n",
              "      <td>296</td>\n",
              "      <td>32165</td>\n",
              "      <td>435</td>\n",
              "      <td>626</td>\n",
              "      <td>0</td>\n",
              "      <td>94</td>\n",
              "      <td>22</td>\n",
              "      <td>4</td>\n",
              "      <td>4</td>\n",
              "    </tr>\n",
              "  </tbody>\n",
              "</table>\n",
              "<p>1539 rows × 12 columns</p>\n",
              "</div>"
            ],
            "text/plain": [
              "       user_id  favorite_count  ...  transfer_count  chat_count\n",
              "0      2487730            1899  ...              35         130\n",
              "1      1462217             799  ...              57          11\n",
              "2      6972746            3692  ...              10          13\n",
              "3      1358510            1228  ...               1           4\n",
              "4      1358510            1228  ...               1           4\n",
              "...        ...             ...  ...             ...         ...\n",
              "1534  10255755            2063  ...               5         236\n",
              "1535  10255755            2063  ...               5         236\n",
              "1536  10255755            2063  ...               5         236\n",
              "1537  10255755            2063  ...               5         236\n",
              "1538   2604332             851  ...               4           4\n",
              "\n",
              "[1539 rows x 12 columns]"
            ]
          },
          "metadata": {},
          "execution_count": 4
        }
      ]
    },
    {
      "cell_type": "markdown",
      "metadata": {
        "id": "V6Vf1J5aMTWQ"
      },
      "source": [
        "<고민 1>  \n",
        "* content-based filtering 예제와 우리 데이터의 차이점  \n",
        "    * 우리의 데이터는 일반적인 content-based filtering의 예제(사진)와 다르게 one-hot encoding/tf-idf 할 수 없는  feature로 구성되어 있음  \n",
        "= 다른말로 하면 우리 데이터의 feature는 discrete(categorical)하지 않고 continuous 함\n",
        "![image.png](data:image/png;base64,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)  \n",
        "* 그냥 사이킷런 모듈을 이용해서 advertiser 간의 유사도를 구하는 방식으로 진행\n",
        "\n",
        "<고민2>\n",
        "* feature extraction  \n",
        "    * 평균 좋아요 수 (favorite count/item count) 등의 feature를 추가해서 유사도를 계산하면 성능이 더 좋아지지 않을까\n",
        "    "
      ]
    },
    {
      "cell_type": "code",
      "metadata": {
        "colab": {
          "base_uri": "https://localhost:8080/"
        },
        "id": "6HhzPCjm-OqV",
        "outputId": "e6611c18-fa4a-4847-e1b2-24b1e057aa4e"
      },
      "source": [
        "# advertiser dataset 내 광고주 id 중복 값 확인\n",
        "advertiser.user_id.value_counts()"
      ],
      "execution_count": null,
      "outputs": [
        {
          "output_type": "execute_result",
          "data": {
            "text/plain": [
              "12851816    146\n",
              "10255755    104\n",
              "10197556     92\n",
              "3947717      73\n",
              "2347538      52\n",
              "           ... \n",
              "4380220       1\n",
              "6549054       1\n",
              "76568156      1\n",
              "10055910      1\n",
              "9462379       1\n",
              "Name: user_id, Length: 372, dtype: int64"
            ]
          },
          "metadata": {},
          "execution_count": 5
        }
      ]
    },
    {
      "cell_type": "code",
      "metadata": {
        "colab": {
          "base_uri": "https://localhost:8080/",
          "height": 443
        },
        "id": "Hmzp-bi4_Wnl",
        "outputId": "7f865810-1c44-4a1a-e61d-8f7bd1a2ae11"
      },
      "source": [
        "# 모든 column의 값이 똑같은 것으로 보아 완전한 중복 값이므로 drop해도 무방하다고 판단\n",
        "advertiser[advertiser['user_id'] == 12851816]"
      ],
      "execution_count": null,
      "outputs": [
        {
          "output_type": "execute_result",
          "data": {
            "text/html": [
              "<div>\n",
              "<style scoped>\n",
              "    .dataframe tbody tr th:only-of-type {\n",
              "        vertical-align: middle;\n",
              "    }\n",
              "\n",
              "    .dataframe tbody tr th {\n",
              "        vertical-align: top;\n",
              "    }\n",
              "\n",
              "    .dataframe thead th {\n",
              "        text-align: right;\n",
              "    }\n",
              "</style>\n",
              "<table border=\"1\" class=\"dataframe\">\n",
              "  <thead>\n",
              "    <tr style=\"text-align: right;\">\n",
              "      <th></th>\n",
              "      <th>user_id</th>\n",
              "      <th>favorite_count</th>\n",
              "      <th>grade</th>\n",
              "      <th>item_count</th>\n",
              "      <th>interest</th>\n",
              "      <th>review_count</th>\n",
              "      <th>comment_count</th>\n",
              "      <th>follower_count</th>\n",
              "      <th>pay_count</th>\n",
              "      <th>parcel_post_count</th>\n",
              "      <th>transfer_count</th>\n",
              "      <th>chat_count</th>\n",
              "    </tr>\n",
              "  </thead>\n",
              "  <tbody>\n",
              "    <tr>\n",
              "      <th>514</th>\n",
              "      <td>12851816</td>\n",
              "      <td>2131</td>\n",
              "      <td>5285</td>\n",
              "      <td>247</td>\n",
              "      <td>4525</td>\n",
              "      <td>542</td>\n",
              "      <td>739</td>\n",
              "      <td>0</td>\n",
              "      <td>496</td>\n",
              "      <td>0</td>\n",
              "      <td>0</td>\n",
              "      <td>11</td>\n",
              "    </tr>\n",
              "    <tr>\n",
              "      <th>515</th>\n",
              "      <td>12851816</td>\n",
              "      <td>2131</td>\n",
              "      <td>5285</td>\n",
              "      <td>247</td>\n",
              "      <td>4525</td>\n",
              "      <td>542</td>\n",
              "      <td>739</td>\n",
              "      <td>0</td>\n",
              "      <td>496</td>\n",
              "      <td>0</td>\n",
              "      <td>0</td>\n",
              "      <td>11</td>\n",
              "    </tr>\n",
              "    <tr>\n",
              "      <th>516</th>\n",
              "      <td>12851816</td>\n",
              "      <td>2131</td>\n",
              "      <td>5285</td>\n",
              "      <td>247</td>\n",
              "      <td>4525</td>\n",
              "      <td>542</td>\n",
              "      <td>739</td>\n",
              "      <td>0</td>\n",
              "      <td>496</td>\n",
              "      <td>0</td>\n",
              "      <td>0</td>\n",
              "      <td>11</td>\n",
              "    </tr>\n",
              "    <tr>\n",
              "      <th>517</th>\n",
              "      <td>12851816</td>\n",
              "      <td>2131</td>\n",
              "      <td>5285</td>\n",
              "      <td>247</td>\n",
              "      <td>4525</td>\n",
              "      <td>542</td>\n",
              "      <td>739</td>\n",
              "      <td>0</td>\n",
              "      <td>496</td>\n",
              "      <td>0</td>\n",
              "      <td>0</td>\n",
              "      <td>11</td>\n",
              "    </tr>\n",
              "    <tr>\n",
              "      <th>518</th>\n",
              "      <td>12851816</td>\n",
              "      <td>2131</td>\n",
              "      <td>5285</td>\n",
              "      <td>247</td>\n",
              "      <td>4525</td>\n",
              "      <td>542</td>\n",
              "      <td>739</td>\n",
              "      <td>0</td>\n",
              "      <td>496</td>\n",
              "      <td>0</td>\n",
              "      <td>0</td>\n",
              "      <td>11</td>\n",
              "    </tr>\n",
              "    <tr>\n",
              "      <th>...</th>\n",
              "      <td>...</td>\n",
              "      <td>...</td>\n",
              "      <td>...</td>\n",
              "      <td>...</td>\n",
              "      <td>...</td>\n",
              "      <td>...</td>\n",
              "      <td>...</td>\n",
              "      <td>...</td>\n",
              "      <td>...</td>\n",
              "      <td>...</td>\n",
              "      <td>...</td>\n",
              "      <td>...</td>\n",
              "    </tr>\n",
              "    <tr>\n",
              "      <th>1226</th>\n",
              "      <td>12851816</td>\n",
              "      <td>2131</td>\n",
              "      <td>5285</td>\n",
              "      <td>247</td>\n",
              "      <td>4525</td>\n",
              "      <td>542</td>\n",
              "      <td>739</td>\n",
              "      <td>0</td>\n",
              "      <td>496</td>\n",
              "      <td>0</td>\n",
              "      <td>0</td>\n",
              "      <td>11</td>\n",
              "    </tr>\n",
              "    <tr>\n",
              "      <th>1227</th>\n",
              "      <td>12851816</td>\n",
              "      <td>2131</td>\n",
              "      <td>5285</td>\n",
              "      <td>247</td>\n",
              "      <td>4525</td>\n",
              "      <td>542</td>\n",
              "      <td>739</td>\n",
              "      <td>0</td>\n",
              "      <td>496</td>\n",
              "      <td>0</td>\n",
              "      <td>0</td>\n",
              "      <td>11</td>\n",
              "    </tr>\n",
              "    <tr>\n",
              "      <th>1228</th>\n",
              "      <td>12851816</td>\n",
              "      <td>2131</td>\n",
              "      <td>5285</td>\n",
              "      <td>247</td>\n",
              "      <td>4525</td>\n",
              "      <td>542</td>\n",
              "      <td>739</td>\n",
              "      <td>0</td>\n",
              "      <td>496</td>\n",
              "      <td>0</td>\n",
              "      <td>0</td>\n",
              "      <td>11</td>\n",
              "    </tr>\n",
              "    <tr>\n",
              "      <th>1229</th>\n",
              "      <td>12851816</td>\n",
              "      <td>2131</td>\n",
              "      <td>5285</td>\n",
              "      <td>247</td>\n",
              "      <td>4525</td>\n",
              "      <td>542</td>\n",
              "      <td>739</td>\n",
              "      <td>0</td>\n",
              "      <td>496</td>\n",
              "      <td>0</td>\n",
              "      <td>0</td>\n",
              "      <td>11</td>\n",
              "    </tr>\n",
              "    <tr>\n",
              "      <th>1242</th>\n",
              "      <td>12851816</td>\n",
              "      <td>2131</td>\n",
              "      <td>5285</td>\n",
              "      <td>247</td>\n",
              "      <td>4525</td>\n",
              "      <td>542</td>\n",
              "      <td>739</td>\n",
              "      <td>0</td>\n",
              "      <td>496</td>\n",
              "      <td>0</td>\n",
              "      <td>0</td>\n",
              "      <td>11</td>\n",
              "    </tr>\n",
              "  </tbody>\n",
              "</table>\n",
              "<p>146 rows × 12 columns</p>\n",
              "</div>"
            ],
            "text/plain": [
              "       user_id  favorite_count  ...  transfer_count  chat_count\n",
              "514   12851816            2131  ...               0          11\n",
              "515   12851816            2131  ...               0          11\n",
              "516   12851816            2131  ...               0          11\n",
              "517   12851816            2131  ...               0          11\n",
              "518   12851816            2131  ...               0          11\n",
              "...        ...             ...  ...             ...         ...\n",
              "1226  12851816            2131  ...               0          11\n",
              "1227  12851816            2131  ...               0          11\n",
              "1228  12851816            2131  ...               0          11\n",
              "1229  12851816            2131  ...               0          11\n",
              "1242  12851816            2131  ...               0          11\n",
              "\n",
              "[146 rows x 12 columns]"
            ]
          },
          "metadata": {},
          "execution_count": 6
        }
      ]
    },
    {
      "cell_type": "markdown",
      "metadata": {
        "id": "rZzEDPmx-fZF"
      },
      "source": [
        "* 광고주 id (user_id)에 중복 값이 많이 있다.\n",
        "* 광고주 간의 유사도를 계산하기 위해 중복값을 drop 하자."
      ]
    },
    {
      "cell_type": "code",
      "metadata": {
        "colab": {
          "base_uri": "https://localhost:8080/"
        },
        "id": "NCp6RAiV-v5L",
        "outputId": "fff56ce5-ea6d-4709-ddd1-b261133c2a9a"
      },
      "source": [
        "print(f'중복 값 제거 전 : {advertiser.shape}')\n",
        "advertiser.drop_duplicates(inplace = True)\n",
        "print(f'중복 값 제거 후 : {advertiser.shape}')"
      ],
      "execution_count": null,
      "outputs": [
        {
          "output_type": "stream",
          "name": "stdout",
          "text": [
            "중복 값 제거 전 : (1539, 12)\n",
            "중복 값 제거 후 : (372, 12)\n"
          ]
        }
      ]
    },
    {
      "cell_type": "markdown",
      "metadata": {
        "id": "tGUxvoVrDviD"
      },
      "source": [
        "* 데이터가 굉장히 홀쭉해졌다."
      ]
    },
    {
      "cell_type": "code",
      "metadata": {
        "colab": {
          "base_uri": "https://localhost:8080/",
          "height": 257
        },
        "id": "kmGCzNwqMTZI",
        "outputId": "d8302e11-0f9e-4517-8230-86d9290cf61c"
      },
      "source": [
        "# 유사도 계산을 위해 index를 advertiser의 id (user_Id)로 바꾸자\n",
        "advertiser.set_index('user_id', drop = True, inplace = True)\n",
        "advertiser.head()"
      ],
      "execution_count": null,
      "outputs": [
        {
          "output_type": "execute_result",
          "data": {
            "text/html": [
              "<div>\n",
              "<style scoped>\n",
              "    .dataframe tbody tr th:only-of-type {\n",
              "        vertical-align: middle;\n",
              "    }\n",
              "\n",
              "    .dataframe tbody tr th {\n",
              "        vertical-align: top;\n",
              "    }\n",
              "\n",
              "    .dataframe thead th {\n",
              "        text-align: right;\n",
              "    }\n",
              "</style>\n",
              "<table border=\"1\" class=\"dataframe\">\n",
              "  <thead>\n",
              "    <tr style=\"text-align: right;\">\n",
              "      <th></th>\n",
              "      <th>favorite_count</th>\n",
              "      <th>grade</th>\n",
              "      <th>item_count</th>\n",
              "      <th>interest</th>\n",
              "      <th>review_count</th>\n",
              "      <th>comment_count</th>\n",
              "      <th>follower_count</th>\n",
              "      <th>pay_count</th>\n",
              "      <th>parcel_post_count</th>\n",
              "      <th>transfer_count</th>\n",
              "      <th>chat_count</th>\n",
              "    </tr>\n",
              "    <tr>\n",
              "      <th>user_id</th>\n",
              "      <th></th>\n",
              "      <th></th>\n",
              "      <th></th>\n",
              "      <th></th>\n",
              "      <th></th>\n",
              "      <th></th>\n",
              "      <th></th>\n",
              "      <th></th>\n",
              "      <th></th>\n",
              "      <th></th>\n",
              "      <th></th>\n",
              "    </tr>\n",
              "  </thead>\n",
              "  <tbody>\n",
              "    <tr>\n",
              "      <th>2487730</th>\n",
              "      <td>1899</td>\n",
              "      <td>7673</td>\n",
              "      <td>431</td>\n",
              "      <td>31681</td>\n",
              "      <td>775</td>\n",
              "      <td>529</td>\n",
              "      <td>0</td>\n",
              "      <td>575</td>\n",
              "      <td>0</td>\n",
              "      <td>35</td>\n",
              "      <td>130</td>\n",
              "    </tr>\n",
              "    <tr>\n",
              "      <th>1462217</th>\n",
              "      <td>799</td>\n",
              "      <td>5520</td>\n",
              "      <td>433</td>\n",
              "      <td>16794</td>\n",
              "      <td>570</td>\n",
              "      <td>250</td>\n",
              "      <td>0</td>\n",
              "      <td>942</td>\n",
              "      <td>0</td>\n",
              "      <td>57</td>\n",
              "      <td>11</td>\n",
              "    </tr>\n",
              "    <tr>\n",
              "      <th>6972746</th>\n",
              "      <td>3692</td>\n",
              "      <td>7526</td>\n",
              "      <td>2530</td>\n",
              "      <td>36944</td>\n",
              "      <td>776</td>\n",
              "      <td>828</td>\n",
              "      <td>0</td>\n",
              "      <td>325</td>\n",
              "      <td>0</td>\n",
              "      <td>10</td>\n",
              "      <td>13</td>\n",
              "    </tr>\n",
              "    <tr>\n",
              "      <th>1358510</th>\n",
              "      <td>1228</td>\n",
              "      <td>2106</td>\n",
              "      <td>100</td>\n",
              "      <td>27142</td>\n",
              "      <td>223</td>\n",
              "      <td>431</td>\n",
              "      <td>0</td>\n",
              "      <td>232</td>\n",
              "      <td>9</td>\n",
              "      <td>1</td>\n",
              "      <td>4</td>\n",
              "    </tr>\n",
              "    <tr>\n",
              "      <th>5051200</th>\n",
              "      <td>254</td>\n",
              "      <td>692</td>\n",
              "      <td>77</td>\n",
              "      <td>6462</td>\n",
              "      <td>74</td>\n",
              "      <td>0</td>\n",
              "      <td>0</td>\n",
              "      <td>196</td>\n",
              "      <td>8</td>\n",
              "      <td>40</td>\n",
              "      <td>0</td>\n",
              "    </tr>\n",
              "  </tbody>\n",
              "</table>\n",
              "</div>"
            ],
            "text/plain": [
              "         favorite_count  grade  ...  transfer_count  chat_count\n",
              "user_id                         ...                            \n",
              "2487730            1899   7673  ...              35         130\n",
              "1462217             799   5520  ...              57          11\n",
              "6972746            3692   7526  ...              10          13\n",
              "1358510            1228   2106  ...               1           4\n",
              "5051200             254    692  ...              40           0\n",
              "\n",
              "[5 rows x 11 columns]"
            ]
          },
          "metadata": {},
          "execution_count": 8
        }
      ]
    },
    {
      "cell_type": "code",
      "metadata": {
        "colab": {
          "base_uri": "https://localhost:8080/"
        },
        "id": "SpexzJMEEisb",
        "outputId": "06563e40-d4e3-46a6-813b-2cbcbc6d96b2"
      },
      "source": [
        "# 이를 기반으로 광고주간의 유사도를 구해보자.\n",
        "advertiser_cos = cosine_similarity(advertiser, advertiser)\n",
        "print(advertiser_cos.shape)\n",
        "advertiser_cos"
      ],
      "execution_count": null,
      "outputs": [
        {
          "output_type": "stream",
          "name": "stdout",
          "text": [
            "(372, 372)\n"
          ]
        },
        {
          "output_type": "execute_result",
          "data": {
            "text/plain": [
              "array([[1.        , 0.99599938, 0.99706301, ..., 0.85711839, 0.5216213 ,\n",
              "        0.56969565],\n",
              "       [0.99599938, 1.        , 0.98992976, ..., 0.86830298, 0.58797835,\n",
              "        0.56476098],\n",
              "       [0.99706301, 0.98992976, 1.        , ..., 0.87927369, 0.50348475,\n",
              "        0.61818909],\n",
              "       ...,\n",
              "       [0.85711839, 0.86830298, 0.87927369, ..., 1.        , 0.639017  ,\n",
              "        0.86044099],\n",
              "       [0.5216213 , 0.58797835, 0.50348475, ..., 0.639017  , 1.        ,\n",
              "        0.35022026],\n",
              "       [0.56969565, 0.56476098, 0.61818909, ..., 0.86044099, 0.35022026,\n",
              "        1.        ]])"
            ]
          },
          "metadata": {},
          "execution_count": 9
        }
      ]
    },
    {
      "cell_type": "markdown",
      "metadata": {
        "id": "XMmIu9I4__NE"
      },
      "source": [
        "* 자기 자신과의 유사도가 1이고 matrix 사이즈가 (372 x 372)인 것으로 보아 잘 만들어진 것 같다."
      ]
    },
    {
      "cell_type": "code",
      "metadata": {
        "colab": {
          "base_uri": "https://localhost:8080/",
          "height": 443
        },
        "id": "JmB1sjzuAVRT",
        "outputId": "826e7012-044e-4437-a8c3-ad1a2b256d80"
      },
      "source": [
        "# 추천에 필요한 광고주 index를 따로 만들어야 하기 때문에 index를 초기화해준다.\n",
        "advertiser.reset_index(inplace = True)\n",
        "advertiser"
      ],
      "execution_count": null,
      "outputs": [
        {
          "output_type": "execute_result",
          "data": {
            "text/html": [
              "<div>\n",
              "<style scoped>\n",
              "    .dataframe tbody tr th:only-of-type {\n",
              "        vertical-align: middle;\n",
              "    }\n",
              "\n",
              "    .dataframe tbody tr th {\n",
              "        vertical-align: top;\n",
              "    }\n",
              "\n",
              "    .dataframe thead th {\n",
              "        text-align: right;\n",
              "    }\n",
              "</style>\n",
              "<table border=\"1\" class=\"dataframe\">\n",
              "  <thead>\n",
              "    <tr style=\"text-align: right;\">\n",
              "      <th></th>\n",
              "      <th>index</th>\n",
              "      <th>user_id</th>\n",
              "      <th>favorite_count</th>\n",
              "      <th>grade</th>\n",
              "      <th>item_count</th>\n",
              "      <th>interest</th>\n",
              "      <th>review_count</th>\n",
              "      <th>comment_count</th>\n",
              "      <th>follower_count</th>\n",
              "      <th>pay_count</th>\n",
              "      <th>parcel_post_count</th>\n",
              "      <th>transfer_count</th>\n",
              "      <th>chat_count</th>\n",
              "    </tr>\n",
              "  </thead>\n",
              "  <tbody>\n",
              "    <tr>\n",
              "      <th>0</th>\n",
              "      <td>0</td>\n",
              "      <td>2487730</td>\n",
              "      <td>1899</td>\n",
              "      <td>7673</td>\n",
              "      <td>431</td>\n",
              "      <td>31681</td>\n",
              "      <td>775</td>\n",
              "      <td>529</td>\n",
              "      <td>0</td>\n",
              "      <td>575</td>\n",
              "      <td>0</td>\n",
              "      <td>35</td>\n",
              "      <td>130</td>\n",
              "    </tr>\n",
              "    <tr>\n",
              "      <th>1</th>\n",
              "      <td>1</td>\n",
              "      <td>1462217</td>\n",
              "      <td>799</td>\n",
              "      <td>5520</td>\n",
              "      <td>433</td>\n",
              "      <td>16794</td>\n",
              "      <td>570</td>\n",
              "      <td>250</td>\n",
              "      <td>0</td>\n",
              "      <td>942</td>\n",
              "      <td>0</td>\n",
              "      <td>57</td>\n",
              "      <td>11</td>\n",
              "    </tr>\n",
              "    <tr>\n",
              "      <th>2</th>\n",
              "      <td>2</td>\n",
              "      <td>6972746</td>\n",
              "      <td>3692</td>\n",
              "      <td>7526</td>\n",
              "      <td>2530</td>\n",
              "      <td>36944</td>\n",
              "      <td>776</td>\n",
              "      <td>828</td>\n",
              "      <td>0</td>\n",
              "      <td>325</td>\n",
              "      <td>0</td>\n",
              "      <td>10</td>\n",
              "      <td>13</td>\n",
              "    </tr>\n",
              "    <tr>\n",
              "      <th>3</th>\n",
              "      <td>3</td>\n",
              "      <td>1358510</td>\n",
              "      <td>1228</td>\n",
              "      <td>2106</td>\n",
              "      <td>100</td>\n",
              "      <td>27142</td>\n",
              "      <td>223</td>\n",
              "      <td>431</td>\n",
              "      <td>0</td>\n",
              "      <td>232</td>\n",
              "      <td>9</td>\n",
              "      <td>1</td>\n",
              "      <td>4</td>\n",
              "    </tr>\n",
              "    <tr>\n",
              "      <th>4</th>\n",
              "      <td>4</td>\n",
              "      <td>5051200</td>\n",
              "      <td>254</td>\n",
              "      <td>692</td>\n",
              "      <td>77</td>\n",
              "      <td>6462</td>\n",
              "      <td>74</td>\n",
              "      <td>0</td>\n",
              "      <td>0</td>\n",
              "      <td>196</td>\n",
              "      <td>8</td>\n",
              "      <td>40</td>\n",
              "      <td>0</td>\n",
              "    </tr>\n",
              "    <tr>\n",
              "      <th>...</th>\n",
              "      <td>...</td>\n",
              "      <td>...</td>\n",
              "      <td>...</td>\n",
              "      <td>...</td>\n",
              "      <td>...</td>\n",
              "      <td>...</td>\n",
              "      <td>...</td>\n",
              "      <td>...</td>\n",
              "      <td>...</td>\n",
              "      <td>...</td>\n",
              "      <td>...</td>\n",
              "      <td>...</td>\n",
              "      <td>...</td>\n",
              "    </tr>\n",
              "    <tr>\n",
              "      <th>367</th>\n",
              "      <td>367</td>\n",
              "      <td>75231266</td>\n",
              "      <td>28</td>\n",
              "      <td>38</td>\n",
              "      <td>193</td>\n",
              "      <td>69</td>\n",
              "      <td>5</td>\n",
              "      <td>0</td>\n",
              "      <td>0</td>\n",
              "      <td>11</td>\n",
              "      <td>1</td>\n",
              "      <td>0</td>\n",
              "      <td>2</td>\n",
              "    </tr>\n",
              "    <tr>\n",
              "      <th>368</th>\n",
              "      <td>368</td>\n",
              "      <td>5332936</td>\n",
              "      <td>2</td>\n",
              "      <td>51</td>\n",
              "      <td>12</td>\n",
              "      <td>289</td>\n",
              "      <td>5</td>\n",
              "      <td>1</td>\n",
              "      <td>0</td>\n",
              "      <td>1</td>\n",
              "      <td>0</td>\n",
              "      <td>0</td>\n",
              "      <td>0</td>\n",
              "    </tr>\n",
              "    <tr>\n",
              "      <th>369</th>\n",
              "      <td>369</td>\n",
              "      <td>8173665</td>\n",
              "      <td>4</td>\n",
              "      <td>10</td>\n",
              "      <td>16</td>\n",
              "      <td>26</td>\n",
              "      <td>1</td>\n",
              "      <td>5</td>\n",
              "      <td>0</td>\n",
              "      <td>2</td>\n",
              "      <td>0</td>\n",
              "      <td>0</td>\n",
              "      <td>0</td>\n",
              "    </tr>\n",
              "    <tr>\n",
              "      <th>370</th>\n",
              "      <td>370</td>\n",
              "      <td>2294187</td>\n",
              "      <td>462</td>\n",
              "      <td>3720</td>\n",
              "      <td>833</td>\n",
              "      <td>1228</td>\n",
              "      <td>376</td>\n",
              "      <td>0</td>\n",
              "      <td>0</td>\n",
              "      <td>186</td>\n",
              "      <td>1</td>\n",
              "      <td>6</td>\n",
              "      <td>60</td>\n",
              "    </tr>\n",
              "    <tr>\n",
              "      <th>371</th>\n",
              "      <td>371</td>\n",
              "      <td>74805836</td>\n",
              "      <td>1</td>\n",
              "      <td>0</td>\n",
              "      <td>10</td>\n",
              "      <td>7</td>\n",
              "      <td>0</td>\n",
              "      <td>0</td>\n",
              "      <td>0</td>\n",
              "      <td>0</td>\n",
              "      <td>0</td>\n",
              "      <td>0</td>\n",
              "      <td>0</td>\n",
              "    </tr>\n",
              "  </tbody>\n",
              "</table>\n",
              "<p>372 rows × 13 columns</p>\n",
              "</div>"
            ],
            "text/plain": [
              "     index   user_id  ...  transfer_count  chat_count\n",
              "0        0   2487730  ...              35         130\n",
              "1        1   1462217  ...              57          11\n",
              "2        2   6972746  ...              10          13\n",
              "3        3   1358510  ...               1           4\n",
              "4        4   5051200  ...              40           0\n",
              "..     ...       ...  ...             ...         ...\n",
              "367    367  75231266  ...               0           2\n",
              "368    368   5332936  ...               0           0\n",
              "369    369   8173665  ...               0           0\n",
              "370    370   2294187  ...               6          60\n",
              "371    371  74805836  ...               0           0\n",
              "\n",
              "[372 rows x 13 columns]"
            ]
          },
          "metadata": {},
          "execution_count": 30
        }
      ]
    },
    {
      "cell_type": "code",
      "metadata": {
        "colab": {
          "base_uri": "https://localhost:8080/"
        },
        "id": "DdVo_CxaAvPH",
        "outputId": "4e1fc49d-7877-43e9-95d2-d48096516e77"
      },
      "source": [
        "# 광고주와 광고주의 index의 조합을 따로 기억해두자. (이 index를 통해 광고주간의 유사도를 slicing 해옴.)\n",
        "indices = pd.Series(advertiser.index, index = advertiser['user_id'])\n",
        "indices"
      ],
      "execution_count": null,
      "outputs": [
        {
          "output_type": "execute_result",
          "data": {
            "text/plain": [
              "user_id\n",
              "2487730       0\n",
              "1462217       1\n",
              "6972746       2\n",
              "1358510       3\n",
              "5051200       4\n",
              "           ... \n",
              "75231266    367\n",
              "5332936     368\n",
              "8173665     369\n",
              "2294187     370\n",
              "74805836    371\n",
              "Length: 372, dtype: int64"
            ]
          },
          "metadata": {},
          "execution_count": 11
        }
      ]
    },
    {
      "cell_type": "code",
      "metadata": {
        "id": "rs1OO2Oz6RUd"
      },
      "source": [
        "line = '-----------------------------------------------------------------------'\n",
        "sharp = '#######################################################################'"
      ],
      "execution_count": null,
      "outputs": []
    },
    {
      "cell_type": "code",
      "metadata": {
        "id": "dMZRYXWnMTiD"
      },
      "source": [
        "# 광고주의 id를 입력으로 받아서 유사한 광고주 10명을 추천하는 로직\n",
        "\n",
        "def get_rec_with_advertiserID(advertiser_id, cosine_sim = advertiser_cos):\n",
        "\n",
        "    # 1. 추천의 기준이 되는 광고주의 인덱스를 가져와서\n",
        "    idx = indices[advertiser_id] \n",
        "\n",
        "    # 2. input에 해당하는 광고주의 유사도를 가져온다. (만약 5051200(advertiser_id)를 input으로 줬으면 -> sim_scores에는 5051200광고주에 관한 모든 광고주의 유사도가 list로 존재하게 됨.)\n",
        "    sim_scores = list(enumerate(cosine_sim[idx]))  \n",
        "\n",
        "    # 3. 유사도를 내림차순 정렬한다.\n",
        "    sim_scores = sorted(sim_scores, key=lambda x: x[1], reverse=True) \n",
        "    \n",
        "    # 4. 상위 10개만 자른다. (top-k = 10)\n",
        "    sim_scores = sim_scores[1:11] \n",
        "\n",
        "    # 5. 유사도 top-10에 해당하는 광고주의 index를 가져온다. (이걸로 광고주 id를 slicing)\n",
        "    advertiser_indices = [i[0] for i in sim_scores]  \n",
        "\n",
        "    # 예시 멘트\n",
        "    print('이런 상점은 어때요?')\n",
        "    print(f'[{advertiser_id}] 님과 가장 유사한 상점 10곳이에요.')\n",
        "\n",
        "    # 6.추천\n",
        "    return print(advertiser['user_id'].iloc[advertiser_indices]), print(line)"
      ],
      "execution_count": null,
      "outputs": []
    },
    {
      "cell_type": "code",
      "metadata": {
        "id": "4RnhnMqsMTlv",
        "colab": {
          "base_uri": "https://localhost:8080/"
        },
        "outputId": "e122078c-3f56-417a-b36c-cd0a362e14bd"
      },
      "source": [
        "# 추천해보자\n",
        "get_rec_with_advertiserID(1358510)"
      ],
      "execution_count": null,
      "outputs": [
        {
          "output_type": "stream",
          "name": "stdout",
          "text": [
            "이런 상점은 어때요?\n",
            "[1358510] 님과 가장 유사한 상점 10곳이에요.\n",
            "289     948674\n",
            "236      66620\n",
            "259    2250054\n",
            "222    3394365\n",
            "341     541227\n",
            "5       969061\n",
            "366    1933344\n",
            "97      266981\n",
            "78      906947\n",
            "212    2570676\n",
            "Name: user_id, dtype: int64\n",
            "-----------------------------------------------------------------------\n"
          ]
        },
        {
          "output_type": "execute_result",
          "data": {
            "text/plain": [
              "(None, None)"
            ]
          },
          "metadata": {},
          "execution_count": 19
        }
      ]
    },
    {
      "cell_type": "markdown",
      "metadata": {
        "id": "B20pPYh1B4p1"
      },
      "source": [
        "* 광고주의 id를 입력했을 때 유사도가 가장 높은 10명의 광고주 리스트를 가져와진 것을 알 수 있음.\n",
        "* 왼쪽이 광고주의 index, 오른쪽이 광고주의 id\n",
        "* 활용 방안\n",
        "    * 이 로직은 유저가 광고(우리의 메인 모델의 추천 결과)를 클릭했을 때 UI에 *'이런 상점은 어때요?'*를 만들어서 *비슷한 광고주 추천하는 방식*으로 활용 가능할 것 같다.  \n",
        " (클릭된 광고를 이용해 다른 상점을 또 추천(광고)를 할 수 있다. 첫 추천에 유저의 취향이 잘 반영 되었다면, 클릭된 광고와 비슷한 상점을 잘 추천해주었을 때 또 클릭될 확률이 높을 것)"
      ]
    },
    {
      "cell_type": "code",
      "metadata": {
        "colab": {
          "base_uri": "https://localhost:8080/",
          "height": 101
        },
        "id": "0VTfVaafQNqw",
        "outputId": "2aff7ff7-f8ff-468d-e744-b8bf3b3261c5"
      },
      "source": [
        "# 1358510 광고주를 예시로 얼마나 유사한 광고주가 추천되었는지 보자. (눈바디)\n",
        "\n",
        "advertiser[advertiser['user_id'] == 1358510] "
      ],
      "execution_count": null,
      "outputs": [
        {
          "output_type": "execute_result",
          "data": {
            "text/html": [
              "<div>\n",
              "<style scoped>\n",
              "    .dataframe tbody tr th:only-of-type {\n",
              "        vertical-align: middle;\n",
              "    }\n",
              "\n",
              "    .dataframe tbody tr th {\n",
              "        vertical-align: top;\n",
              "    }\n",
              "\n",
              "    .dataframe thead th {\n",
              "        text-align: right;\n",
              "    }\n",
              "</style>\n",
              "<table border=\"1\" class=\"dataframe\">\n",
              "  <thead>\n",
              "    <tr style=\"text-align: right;\">\n",
              "      <th></th>\n",
              "      <th>user_id</th>\n",
              "      <th>favorite_count</th>\n",
              "      <th>grade</th>\n",
              "      <th>item_count</th>\n",
              "      <th>interest</th>\n",
              "      <th>review_count</th>\n",
              "      <th>comment_count</th>\n",
              "      <th>follower_count</th>\n",
              "      <th>pay_count</th>\n",
              "      <th>parcel_post_count</th>\n",
              "      <th>transfer_count</th>\n",
              "      <th>chat_count</th>\n",
              "    </tr>\n",
              "  </thead>\n",
              "  <tbody>\n",
              "    <tr>\n",
              "      <th>3</th>\n",
              "      <td>1358510</td>\n",
              "      <td>1228</td>\n",
              "      <td>2106</td>\n",
              "      <td>100</td>\n",
              "      <td>27142</td>\n",
              "      <td>223</td>\n",
              "      <td>431</td>\n",
              "      <td>0</td>\n",
              "      <td>232</td>\n",
              "      <td>9</td>\n",
              "      <td>1</td>\n",
              "      <td>4</td>\n",
              "    </tr>\n",
              "  </tbody>\n",
              "</table>\n",
              "</div>"
            ],
            "text/plain": [
              "   user_id  favorite_count  ...  transfer_count  chat_count\n",
              "3  1358510            1228  ...               1           4\n",
              "\n",
              "[1 rows x 12 columns]"
            ]
          },
          "metadata": {},
          "execution_count": 20
        }
      ]
    },
    {
      "cell_type": "code",
      "metadata": {
        "colab": {
          "base_uri": "https://localhost:8080/",
          "height": 101
        },
        "id": "qLtx1TWsQVbq",
        "outputId": "0202944a-2091-4ba4-b33e-aec7a00e4b70"
      },
      "source": [
        "advertiser[advertiser['user_id'] == 948674] # 1등으로 추천된 유저"
      ],
      "execution_count": null,
      "outputs": [
        {
          "output_type": "execute_result",
          "data": {
            "text/html": [
              "<div>\n",
              "<style scoped>\n",
              "    .dataframe tbody tr th:only-of-type {\n",
              "        vertical-align: middle;\n",
              "    }\n",
              "\n",
              "    .dataframe tbody tr th {\n",
              "        vertical-align: top;\n",
              "    }\n",
              "\n",
              "    .dataframe thead th {\n",
              "        text-align: right;\n",
              "    }\n",
              "</style>\n",
              "<table border=\"1\" class=\"dataframe\">\n",
              "  <thead>\n",
              "    <tr style=\"text-align: right;\">\n",
              "      <th></th>\n",
              "      <th>user_id</th>\n",
              "      <th>favorite_count</th>\n",
              "      <th>grade</th>\n",
              "      <th>item_count</th>\n",
              "      <th>interest</th>\n",
              "      <th>review_count</th>\n",
              "      <th>comment_count</th>\n",
              "      <th>follower_count</th>\n",
              "      <th>pay_count</th>\n",
              "      <th>parcel_post_count</th>\n",
              "      <th>transfer_count</th>\n",
              "      <th>chat_count</th>\n",
              "    </tr>\n",
              "  </thead>\n",
              "  <tbody>\n",
              "    <tr>\n",
              "      <th>289</th>\n",
              "      <td>948674</td>\n",
              "      <td>10504</td>\n",
              "      <td>19027</td>\n",
              "      <td>44</td>\n",
              "      <td>260464</td>\n",
              "      <td>1969</td>\n",
              "      <td>4069</td>\n",
              "      <td>0</td>\n",
              "      <td>172</td>\n",
              "      <td>0</td>\n",
              "      <td>1</td>\n",
              "      <td>17</td>\n",
              "    </tr>\n",
              "  </tbody>\n",
              "</table>\n",
              "</div>"
            ],
            "text/plain": [
              "     user_id  favorite_count  ...  transfer_count  chat_count\n",
              "289   948674           10504  ...               1          17\n",
              "\n",
              "[1 rows x 12 columns]"
            ]
          },
          "metadata": {},
          "execution_count": 21
        }
      ]
    },
    {
      "cell_type": "code",
      "metadata": {
        "colab": {
          "base_uri": "https://localhost:8080/",
          "height": 101
        },
        "id": "QhY2VskURcpe",
        "outputId": "a21eb187-cee4-4051-8a43-8fbc6356e2aa"
      },
      "source": [
        "advertiser[advertiser['user_id'] == 66620] # 2등으로 추천된 유저"
      ],
      "execution_count": null,
      "outputs": [
        {
          "output_type": "execute_result",
          "data": {
            "text/html": [
              "<div>\n",
              "<style scoped>\n",
              "    .dataframe tbody tr th:only-of-type {\n",
              "        vertical-align: middle;\n",
              "    }\n",
              "\n",
              "    .dataframe tbody tr th {\n",
              "        vertical-align: top;\n",
              "    }\n",
              "\n",
              "    .dataframe thead th {\n",
              "        text-align: right;\n",
              "    }\n",
              "</style>\n",
              "<table border=\"1\" class=\"dataframe\">\n",
              "  <thead>\n",
              "    <tr style=\"text-align: right;\">\n",
              "      <th></th>\n",
              "      <th>user_id</th>\n",
              "      <th>favorite_count</th>\n",
              "      <th>grade</th>\n",
              "      <th>item_count</th>\n",
              "      <th>interest</th>\n",
              "      <th>review_count</th>\n",
              "      <th>comment_count</th>\n",
              "      <th>follower_count</th>\n",
              "      <th>pay_count</th>\n",
              "      <th>parcel_post_count</th>\n",
              "      <th>transfer_count</th>\n",
              "      <th>chat_count</th>\n",
              "    </tr>\n",
              "  </thead>\n",
              "  <tbody>\n",
              "    <tr>\n",
              "      <th>236</th>\n",
              "      <td>66620</td>\n",
              "      <td>3092</td>\n",
              "      <td>8067</td>\n",
              "      <td>131</td>\n",
              "      <td>92447</td>\n",
              "      <td>822</td>\n",
              "      <td>2495</td>\n",
              "      <td>0</td>\n",
              "      <td>752</td>\n",
              "      <td>0</td>\n",
              "      <td>0</td>\n",
              "      <td>23</td>\n",
              "    </tr>\n",
              "  </tbody>\n",
              "</table>\n",
              "</div>"
            ],
            "text/plain": [
              "     user_id  favorite_count  ...  transfer_count  chat_count\n",
              "236    66620            3092  ...               0          23\n",
              "\n",
              "[1 rows x 12 columns]"
            ]
          },
          "metadata": {},
          "execution_count": 22
        }
      ]
    },
    {
      "cell_type": "markdown",
      "metadata": {
        "id": "fQr3ej1zRQXW"
      },
      "source": [
        "* 추천 결과를 보니 추천의 기준이 되는 광고주와 추천된 광고주 사이에 유사해보이는 구석이 별로 없다.\n",
        "* 원인\n",
        "    * 비교 대상이 너무 적기 때문 (광고주 수 372명)\n",
        "    * 유사도 계산에 사용된 feature가 유의미하지 않아서 (게시글 제목, 키워드, 카테고리 등의 주요 항목이 고려 x)\n",
        "* 성능 개선 방안 2 가지\n",
        "    1. n 가지 방식으로 유사도를 계산 후 이를 평균낸 값을 최종 유사도로 사용한다. (NLP로 게시글 제목 간의 유사도를 계산한다던지..)\n",
        "    2. 추가적인 feature extraction을 통해 feature를 늘린 후 유사도를 다시 계산한다. (광고주 게시글의 제목, 카테고리, 키워드 등을 활용)\n",
        "    3. 1,2번을 둘 다 한다."
      ]
    },
    {
      "cell_type": "code",
      "metadata": {
        "id": "42lBm7KyiGp4"
      },
      "source": [
        "# (응용) 광고주 id 말고 유저 id를 입력으로 받아와서 추천해보자.\n",
        "# viewer_id 입력 -> viewer가 본 광고 -> 해당 광고의 광고주 -> 광고주와 비슷한 광고주 추천\n",
        "\n",
        "def get_rec_with_viewerID(viewer_id):\n",
        "    \n",
        "    # 1. viewer가 여러 광고주의 광고를 보는 경우가 있기 때문에 유저가 본 광고주 목록을 담을 빈 list를 만든다.\n",
        "    adv_list = []   \n",
        "\n",
        "    # 2. viewer가 본 광고의 광고주를 list에 담는다. (drop_duplicates : 같은 광고를 여러번 본 경우 중복 추천을 방지하기 위해)\n",
        "    for i  in temp[temp['viewer_id'] == viewer_id].advertizer_id.drop_duplicates(): \n",
        "        adv_list.append(i)\n",
        "\n",
        "    print(sharp)\n",
        "    print('#', viewer_id, '님이 본 광고의 광고주는', adv_list, '입니다.#')\n",
        "    print(sharp)\n",
        "    print('\\n')\n",
        "\n",
        "    # 3. 위에서와 동일하게 advertiser_id를 이용해 높은 유사도의 광고주를 추천.\n",
        "    for advertiser in adv_list:\n",
        "        get_rec_with_advertiserID(advertiser)  # 추천은 여전히 광고주 id를 이용. 그저 광고주 id 입력을 직접하는지 viewer_id를 통해 가져오는지의 차이.\n",
        "                                               "
      ],
      "execution_count": null,
      "outputs": []
    },
    {
      "cell_type": "code",
      "metadata": {
        "colab": {
          "base_uri": "https://localhost:8080/"
        },
        "id": "2UI3_THam5j4",
        "outputId": "d71351f1-369d-42f3-f1cc-0e435e8e4366"
      },
      "source": [
        "get_rec_with_viewerID(1728109)"
      ],
      "execution_count": null,
      "outputs": [
        {
          "output_type": "stream",
          "name": "stdout",
          "text": [
            "#######################################################################\n",
            "# 1728109 님이 본 광고의 광고주는 [12851816, 10197556, 948674] 입니다.#\n",
            "#######################################################################\n",
            "\n",
            "\n",
            "이런 상점은 어때요?\n",
            "[12851816] 님과 가장 유사한 상점 10곳이에요.\n",
            "345     8266205\n",
            "353     9240746\n",
            "100      178506\n",
            "127     1753950\n",
            "6       9698825\n",
            "14      2347538\n",
            "255    11951839\n",
            "90      1909021\n",
            "113    12211204\n",
            "294    10255755\n",
            "Name: user_id, dtype: int64\n",
            "-----------------------------------------------------------------------\n",
            "이런 상점은 어때요?\n",
            "[10197556] 님과 가장 유사한 상점 10곳이에요.\n",
            "294    10255755\n",
            "293     6011124\n",
            "29     10934396\n",
            "305     1286544\n",
            "348    74912330\n",
            "271     2727955\n",
            "264     7917201\n",
            "93     11484675\n",
            "87       970589\n",
            "71      9464815\n",
            "Name: user_id, dtype: int64\n",
            "-----------------------------------------------------------------------\n",
            "이런 상점은 어때요?\n",
            "[948674] 님과 가장 유사한 상점 10곳이에요.\n",
            "3      1358510\n",
            "222    3394365\n",
            "259    2250054\n",
            "236      66620\n",
            "97      266981\n",
            "366    1933344\n",
            "341     541227\n",
            "78      906947\n",
            "322    2378665\n",
            "5       969061\n",
            "Name: user_id, dtype: int64\n",
            "-----------------------------------------------------------------------\n"
          ]
        }
      ]
    },
    {
      "cell_type": "markdown",
      "metadata": {
        "id": "iNazFNfu7GV-"
      },
      "source": [
        "still to come\n",
        "* loss 계산은 어떻게 해야할까?  \n",
        "    * cosine distance(1-cosine similarity)의 합?  \n",
        "    -> top-k recommendation은 유사한 정도(점수)가 아닌 순서가 중요한 것.  \n",
        "    (유사한 정도를 loss로 잡으면 안 될 지도...(유사한 광고주가 없다면 그나마 비슷한 광고주라도 추천해줘야하니까))"
      ]
    },
    {
      "cell_type": "markdown",
      "metadata": {
        "id": "HmYUD9SG7GY8"
      },
      "source": [
        "# 2. 광수님 의견"
      ]
    },
    {
      "cell_type": "code",
      "metadata": {
        "id": "lIlYv6M27Glx",
        "colab": {
          "base_uri": "https://localhost:8080/"
        },
        "outputId": "93de7629-c2bb-45db-bec4-19ef926ea2cd"
      },
      "source": [
        "print(sharp)\n",
        "print('###################### 8월 31일 best 상점 top-10 ######################')\n",
        "print(sharp)\n",
        "\n",
        "top_10_merchant = pd.DataFrame(temp.groupby('advertizer_id')['imp_id'].count().sort_values(ascending = False).head(10)) # temp = 전에 viewer-advertiser matix 만들 때 쓴 groupby dataframe\n",
        "top_10_merchant.rename(columns = {'imp_id' : 'score'}, inplace = True) # imp_id count 수를 score로 변경\n",
        "\n",
        "print(top_10_merchant)\n",
        "print('\\n')\n",
        "\n",
        "# for advertiser in list(top_10_merchant.index.values):\n",
        "#     print(get_rec_with_advertiserID(advertiser))"
      ],
      "execution_count": null,
      "outputs": [
        {
          "output_type": "stream",
          "name": "stdout",
          "text": [
            "#######################################################################\n",
            "###################### 8월 31일 best 상점 top-10 ######################\n",
            "#######################################################################\n",
            "               score\n",
            "advertizer_id       \n",
            "12211204        3067\n",
            "12851816        2897\n",
            "3947717         2357\n",
            "10197556        1590\n",
            "10255755        1543\n",
            "201368          1373\n",
            "76633207         881\n",
            "3682152          726\n",
            "6972746          720\n",
            "2347538          711\n",
            "\n",
            "\n"
          ]
        }
      ]
    },
    {
      "cell_type": "markdown",
      "metadata": {
        "id": "6VKGYYaK5h3W"
      },
      "source": [
        "* 정확히 말하면 '광고된 상점' 중 best 상점인 것.\n",
        "* 번장 관계자님 : 유저에게 광고주를 추천해준다고 그랬는데, 취향에 대한 정보가 없는 신규 유저에게 추천해줄 때는 어떻게 하실건가요? (cold start problem)  \n",
        "    => 범용성이 높은 금일 베스트 상점 top-10개를 추천해주어서 취향 정보를 알아내겠다.\n",
        "* 활용 방안  \n",
        "    * 오늘의 베스트 상점을 추천 -> 유저가 클릭하면 해당 best 상점과 유사도가 높은 상점을 또 추천한다."
      ]
    },
    {
      "cell_type": "code",
      "metadata": {
        "id": "BX1mFw8t8qgC"
      },
      "source": [],
      "execution_count": null,
      "outputs": []
    },
    {
      "cell_type": "markdown",
      "metadata": {
        "id": "w4yJvUwRbEea"
      },
      "source": [
        "# 3. 결론\n",
        "<content-based filtering의 메인 모델로서의 가치>\n",
        "* 메인 모델로서의 가치는 낮아 보임.\n",
        "* 다만, 메인 모델에 서브로 탑재하거나 메인 모델의 부족한 부분(cold-start problem)을 보완하는 수단으로 활용이 가능해보임.\n",
        "\n",
        "<보완점>\n",
        "* loss 계산 및 학습은 어떻게 할지 고민이 필요\n",
        "* 모델이 너무 심플하다."
      ]
    },
    {
      "cell_type": "code",
      "metadata": {
        "id": "-AyXc8xjbEh0"
      },
      "source": [],
      "execution_count": null,
      "outputs": []
    },
    {
      "cell_type": "code",
      "metadata": {
        "id": "4nE76HJUbElN"
      },
      "source": [],
      "execution_count": null,
      "outputs": []
    },
    {
      "cell_type": "code",
      "metadata": {
        "id": "fKKUtF-ibEpL"
      },
      "source": [],
      "execution_count": null,
      "outputs": []
    },
    {
      "cell_type": "code",
      "metadata": {
        "id": "BvIbKeh0bEry"
      },
      "source": [],
      "execution_count": null,
      "outputs": []
    },
    {
      "cell_type": "code",
      "metadata": {
        "id": "EvNyXmlubEuo"
      },
      "source": [],
      "execution_count": null,
      "outputs": []
    },
    {
      "cell_type": "code",
      "metadata": {
        "id": "O1e9Vu2YbEyR"
      },
      "source": [],
      "execution_count": null,
      "outputs": []
    },
    {
      "cell_type": "code",
      "metadata": {
        "id": "oL8msAyNbE1R"
      },
      "source": [],
      "execution_count": null,
      "outputs": []
    },
    {
      "cell_type": "code",
      "metadata": {
        "id": "WZnc7Mk7bE36"
      },
      "source": [],
      "execution_count": null,
      "outputs": []
    },
    {
      "cell_type": "code",
      "metadata": {
        "id": "pV0_CmWtbE7g"
      },
      "source": [],
      "execution_count": null,
      "outputs": []
    },
    {
      "cell_type": "code",
      "metadata": {
        "id": "Voyqz_kjbE-d"
      },
      "source": [],
      "execution_count": null,
      "outputs": []
    },
    {
      "cell_type": "code",
      "metadata": {
        "id": "09rZ7M3pbFBu"
      },
      "source": [],
      "execution_count": null,
      "outputs": []
    }
  ]
}